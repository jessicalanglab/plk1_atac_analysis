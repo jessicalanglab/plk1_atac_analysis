{
 "cells": [
  {
   "cell_type": "code",
   "execution_count": null,
   "metadata": {},
   "outputs": [],
   "source": [
    "import pandas as pd\n",
    "import statsmodels.formula.api as smf\n",
    "from scipy.stats import f_oneway\n",
    "import numpy as np\n",
    "import seaborn as sns\n",
    "import matplotlib.pyplot as plt\n",
    "import papermill as pm"
   ]
  },
  {
   "cell_type": "code",
   "execution_count": null,
   "metadata": {
    "tags": [
     "parameters"
    ]
   },
   "outputs": [],
   "source": [
    "# TODO: note that comparison_type must be set by `launch_analyze_deeptools_results.ipynb`\n",
    "comparison_type = None"
   ]
  },
  {
   "cell_type": "code",
   "execution_count": 45,
   "metadata": {},
   "outputs": [],
   "source": [
    "print(comparison_type)\n",
    "matrix_path = f\"output/{comparison_type}/DMSO_3MB.computeMatrix.vals.mat.tab\""
   ]
  },
  {
   "cell_type": "markdown",
   "metadata": {},
   "source": [
    "### Collect data on the height of each peak contributing to a profile\n",
    "\n",
    "`DMSO_3MB.computeMatrix.vals.mat.tab` contains a matrix with the following format:\n",
    "- rows are individual peaks\n",
    "- columns are one of the 600 points in the plot for each replicate\n",
    "- max height of an individual peak is then the max in that row for the 600 columns related to the replicate"
   ]
  },
  {
   "cell_type": "code",
   "execution_count": 12,
   "metadata": {},
   "outputs": [],
   "source": [
    "matrix = pd.read_csv(matrix_path, sep=\"\\t\", skiprows=2)\n",
    "fixed_columns = matrix.columns[1:]\n",
    "matrix = matrix.iloc[:, :-1]\n",
    "matrix.columns = fixed_columns\n",
    "\n",
    "# peak_height is rows: replicate, columns: individual region's max value (peak height)\n",
    "matrix_adj = matrix.copy()\n",
    "matrix_adj.columns = matrix.columns.str.split(\".\").str[0]\n",
    "peak_height = matrix_adj.T.groupby(matrix_adj.columns).max()"
   ]
  },
  {
   "cell_type": "code",
   "execution_count": 44,
   "metadata": {},
   "outputs": [
    {
     "data": {
      "text/plain": [
       "0.09237984849057518"
      ]
     },
     "metadata": {},
     "output_type": "display_data"
    }
   ],
   "source": [
    "# Get the max plotted peak height (average across regions) for each replicate\n",
    "# to constrain the yMax for plot heatmap\n",
    "location_heights = matrix.mean(axis=0)\n",
    "display(location_heights.max())"
   ]
  },
  {
   "cell_type": "markdown",
   "metadata": {},
   "source": [
    "### Violin plot"
   ]
  },
  {
   "cell_type": "code",
   "execution_count": null,
   "metadata": {},
   "outputs": [],
   "source": [
    "peak_height_formatted = peak_height.T.melt(var_name=\"condition_replicate\", value_name=\"peak_height\")\n",
    "peak_height_formatted[['condition', 'replicate']] = peak_height_formatted['condition_replicate'].str.split(\"_\", expand=True)\n",
    "# peak_height_formatted = peak_height_formatted.drop(columns=\"condition_replicate\")\n",
    "\n",
    "# Create the violin plot\n",
    "plt.figure(figsize=(10, 6))\n",
    "sns.violinplot(x='condition_replicate', y='peak_height', hue='condition', data=peak_height_formatted)\n",
    "\n",
    "plt.title(f\"Violin Plot Grouped by Condition and Replicate ({comparison_type})\")\n",
    "plt.xlabel(\"Condition and Replicate\")\n",
    "plt.ylabel(\"Peak height\")\n",
    "plt.xticks(rotation=45) \n",
    "plt.tight_layout()\n",
    "plt.show()\n",
    "# Because of the directory this is launched to, this will actually be in \"output/{comparison_type}\"\n",
    "plt.savefig(f\"peak_height_violin_plot.svg\")\n",
    "plt.close()\n",
    "\n",
    "# Plot showing only up to the third quartile of each row\n",
    "max_third_quartile = peak_height.quantile(0.75, axis=1).max()\n",
    "y_max = max_third_quartile + 0.5 * max_third_quartile\n",
    "plt.figure(figsize=(10, 6))\n",
    "plt.ylim(0, y_max)\n",
    "sns.violinplot(x='condition_replicate', y='peak_height', hue='condition', data=peak_height_formatted)\n",
    "plt.title(f\"Violin Plot Grouped by Condition and Replicate ({comparison_type})\")\n",
    "plt.xlabel(\"Condition and Replicate\")\n",
    "plt.ylabel(\"Peak height\")\n",
    "plt.xticks(rotation=45) \n",
    "plt.tight_layout()\n",
    "plt.show()\n",
    "# Because of the directory this is launched to, this will actually be in \"output/{comparison_type}\"\n",
    "plt.savefig(f\"peak_height_violin_plot_zoomed.svg\")\n"
   ]
  },
  {
   "cell_type": "markdown",
   "metadata": {},
   "source": [
    "### Mixed-effects model\n",
    "\n",
    "The P > |z| value for the condition[T.DMSO] is the p-value for there being a difference in peak height between conditions 3MB and DMSO."
   ]
  },
  {
   "cell_type": "code",
   "execution_count": null,
   "metadata": {},
   "outputs": [],
   "source": [
    "peak_height_formatted = peak_height.T.melt(var_name=\"condition_replicate\", value_name=\"peak_height\")\n",
    "peak_height_formatted[['condition', 'replicate']] = peak_height_formatted['condition_replicate'].str.split(\"_\", expand=True)\n",
    "peak_height_formatted = peak_height_formatted.drop(columns=\"condition_replicate\")\n",
    "\n",
    "# Fit a mixed-effects model\n",
    "model = smf.mixedlm(\"peak_height ~ condition\", peak_height_formatted, groups=peak_height_formatted[\"replicate\"])\n",
    "result = model.fit()\n",
    "print(result.summary())"
   ]
  },
  {
   "cell_type": "markdown",
   "metadata": {},
   "source": [
    "### ANOVA test"
   ]
  },
  {
   "cell_type": "code",
   "execution_count": null,
   "metadata": {},
   "outputs": [],
   "source": [
    "peak_height_means = peak_height.mean(axis=1)\n",
    "\n",
    "condition_means_3MB = peak_height_means.loc[peak_height_means.index.str.contains(\"3MB\")]\n",
    "condition_means_DMSO = peak_height_means.loc[peak_height_means.index.str.contains(\"DMSO\")]\n",
    "\n",
    "# Perform a one-way ANOVA\n",
    "f_stat, p_value = f_oneway(condition_means_DMSO, condition_means_3MB)\n",
    "\n",
    "print(f\"F-statistic: {f_stat}, p-value: {p_value}\")"
   ]
  }
 ],
 "metadata": {
  "kernelspec": {
   "display_name": "general_purpose_venv",
   "language": "python",
   "name": "python3"
  },
  "language_info": {
   "codemirror_mode": {
    "name": "ipython",
    "version": 3
   },
   "file_extension": ".py",
   "mimetype": "text/x-python",
   "name": "python",
   "nbconvert_exporter": "python",
   "pygments_lexer": "ipython3",
   "version": "3.12.7"
  }
 },
 "nbformat": 4,
 "nbformat_minor": 2
}
