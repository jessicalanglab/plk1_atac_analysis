{
 "cells": [
  {
   "cell_type": "markdown",
   "metadata": {},
   "source": [
    "## Launches analyze_deeptools_results.ipynb for each type of profile plot"
   ]
  },
  {
   "cell_type": "code",
   "execution_count": 7,
   "metadata": {},
   "outputs": [
    {
     "data": {
      "text/plain": [
       "['consensus_tts',\n",
       " 'differential_down_peaks',\n",
       " 'static_peaks',\n",
       " 'consensus_intergenic',\n",
       " 'consensus_intron',\n",
       " 'differential_up_peaks',\n",
       " 'consensus_exon',\n",
       " 'consensus_peaks',\n",
       " 'consensus_promoter-tss']"
      ]
     },
     "metadata": {},
     "output_type": "display_data"
    },
    {
     "name": "stderr",
     "output_type": "stream",
     "text": [
      "Executing: 100%|██████████| 13/13 [00:17<00:00,  1.37s/cell]\n"
     ]
    },
    {
     "name": "stdout",
     "output_type": "stream",
     "text": [
      "Notebook run with comparison_type = consensus_tts saved to output/consensus_tts/analysis.ipynb\n"
     ]
    },
    {
     "name": "stderr",
     "output_type": "stream",
     "text": [
      "[NbConvertApp] Converting notebook output/consensus_tts/analysis.ipynb to html\n",
      "[NbConvertApp] WARNING | Alternative text is missing on 2 image(s).\n",
      "[NbConvertApp] Writing 475328 bytes to output/consensus_tts/analysis.html\n",
      "Executing: 100%|██████████| 13/13 [00:13<00:00,  1.04s/cell]\n"
     ]
    },
    {
     "name": "stdout",
     "output_type": "stream",
     "text": [
      "Notebook run with comparison_type = differential_down_peaks saved to output/differential_down_peaks/analysis.ipynb\n"
     ]
    },
    {
     "name": "stderr",
     "output_type": "stream",
     "text": [
      "[NbConvertApp] Converting notebook output/differential_down_peaks/analysis.ipynb to html\n",
      "[NbConvertApp] WARNING | Alternative text is missing on 2 image(s).\n",
      "[NbConvertApp] Writing 468606 bytes to output/differential_down_peaks/analysis.html\n",
      "Executing: 100%|██████████| 13/13 [23:49<00:00, 109.98s/cell]\n"
     ]
    },
    {
     "name": "stdout",
     "output_type": "stream",
     "text": [
      "Notebook run with comparison_type = static_peaks saved to output/static_peaks/analysis.ipynb\n"
     ]
    },
    {
     "name": "stderr",
     "output_type": "stream",
     "text": [
      "[NbConvertApp] Converting notebook output/static_peaks/analysis.ipynb to html\n",
      "[NbConvertApp] WARNING | Alternative text is missing on 2 image(s).\n",
      "[NbConvertApp] Writing 456909 bytes to output/static_peaks/analysis.html\n",
      "Executing: 100%|██████████| 13/13 [09:40<00:00, 44.62s/cell]\n"
     ]
    },
    {
     "name": "stdout",
     "output_type": "stream",
     "text": [
      "Notebook run with comparison_type = consensus_intergenic saved to output/consensus_intergenic/analysis.ipynb\n"
     ]
    },
    {
     "name": "stderr",
     "output_type": "stream",
     "text": [
      "[NbConvertApp] Converting notebook output/consensus_intergenic/analysis.ipynb to html\n",
      "[NbConvertApp] WARNING | Alternative text is missing on 2 image(s).\n",
      "[NbConvertApp] Writing 451914 bytes to output/consensus_intergenic/analysis.html\n",
      "Executing: 100%|██████████| 13/13 [08:23<00:00, 38.77s/cell]\n"
     ]
    },
    {
     "name": "stdout",
     "output_type": "stream",
     "text": [
      "Notebook run with comparison_type = consensus_intron saved to output/consensus_intron/analysis.ipynb\n"
     ]
    },
    {
     "name": "stderr",
     "output_type": "stream",
     "text": [
      "[NbConvertApp] Converting notebook output/consensus_intron/analysis.ipynb to html\n",
      "[NbConvertApp] WARNING | Alternative text is missing on 2 image(s).\n",
      "[NbConvertApp] Writing 465276 bytes to output/consensus_intron/analysis.html\n",
      "Executing: 100%|██████████| 13/13 [00:06<00:00,  2.12cell/s]\n"
     ]
    },
    {
     "name": "stdout",
     "output_type": "stream",
     "text": [
      "Notebook run with comparison_type = differential_up_peaks saved to output/differential_up_peaks/analysis.ipynb\n"
     ]
    },
    {
     "name": "stderr",
     "output_type": "stream",
     "text": [
      "[NbConvertApp] Converting notebook output/differential_up_peaks/analysis.ipynb to html\n",
      "[NbConvertApp] WARNING | Alternative text is missing on 2 image(s).\n",
      "[NbConvertApp] Writing 485931 bytes to output/differential_up_peaks/analysis.html\n",
      "Executing: 100%|██████████| 13/13 [00:38<00:00,  2.95s/cell]\n"
     ]
    },
    {
     "name": "stdout",
     "output_type": "stream",
     "text": [
      "Notebook run with comparison_type = consensus_exon saved to output/consensus_exon/analysis.ipynb\n"
     ]
    },
    {
     "name": "stderr",
     "output_type": "stream",
     "text": [
      "[NbConvertApp] Converting notebook output/consensus_exon/analysis.ipynb to html\n",
      "[NbConvertApp] WARNING | Alternative text is missing on 2 image(s).\n",
      "[NbConvertApp] Writing 483942 bytes to output/consensus_exon/analysis.html\n",
      "Executing: 100%|██████████| 13/13 [23:26<00:00, 108.19s/cell]\n"
     ]
    },
    {
     "name": "stdout",
     "output_type": "stream",
     "text": [
      "Notebook run with comparison_type = consensus_peaks saved to output/consensus_peaks/analysis.ipynb\n"
     ]
    },
    {
     "name": "stderr",
     "output_type": "stream",
     "text": [
      "[NbConvertApp] Converting notebook output/consensus_peaks/analysis.ipynb to html\n",
      "[NbConvertApp] WARNING | Alternative text is missing on 2 image(s).\n",
      "[NbConvertApp] Writing 456081 bytes to output/consensus_peaks/analysis.html\n",
      "Executing: 100%|██████████| 13/13 [00:28<00:00,  2.20s/cell]\n"
     ]
    },
    {
     "name": "stdout",
     "output_type": "stream",
     "text": [
      "Notebook run with comparison_type = consensus_promoter-tss saved to output/consensus_promoter-tss/analysis.ipynb\n"
     ]
    },
    {
     "name": "stderr",
     "output_type": "stream",
     "text": [
      "[NbConvertApp] Converting notebook output/consensus_promoter-tss/analysis.ipynb to html\n",
      "[NbConvertApp] WARNING | Alternative text is missing on 2 image(s).\n",
      "[NbConvertApp] Writing 469223 bytes to output/consensus_promoter-tss/analysis.html\n"
     ]
    }
   ],
   "source": [
    "import papermill as pm\n",
    "import subprocess\n",
    "import os\n",
    "\n",
    "output_folder = \"output\"\n",
    "comparison_types = folder_names = [f for f in os.listdir(output_folder) if os.path.isdir(os.path.join(output_folder, f))]\n",
    "display(comparison_types)\n",
    "\n",
    "# Loop over each comparison_type value and run the notebook\n",
    "for comparison_type in comparison_types:\n",
    "    output_notebook = f\"{output_folder}/{comparison_type}/analysis.ipynb\"\n",
    "\n",
    "    pm.execute_notebook(\n",
    "        'analyze_deeptools_results.ipynb',\n",
    "        output_notebook,\n",
    "        parameters=dict(comparison_type=comparison_type)\n",
    "    )\n",
    "    print(f\"Notebook run with comparison_type = {comparison_type} saved to {output_notebook}\")\n",
    "\n",
    "    # Convert the notebook to HTML\n",
    "    subprocess.run(['jupyter', 'nbconvert', '--to', 'html', output_notebook, '--output', \"analysis.html\"])"
   ]
  }
 ],
 "metadata": {
  "kernelspec": {
   "display_name": "general_purpose_venv",
   "language": "python",
   "name": "python3"
  },
  "language_info": {
   "codemirror_mode": {
    "name": "ipython",
    "version": 3
   },
   "file_extension": ".py",
   "mimetype": "text/x-python",
   "name": "python",
   "nbconvert_exporter": "python",
   "pygments_lexer": "ipython3",
   "version": "3.12.3"
  }
 },
 "nbformat": 4,
 "nbformat_minor": 2
}
