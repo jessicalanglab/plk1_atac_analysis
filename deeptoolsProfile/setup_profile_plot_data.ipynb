{
 "cells": [
  {
   "cell_type": "code",
   "execution_count": 1,
   "metadata": {},
   "outputs": [],
   "source": [
    "import pandas as pd"
   ]
  },
  {
   "cell_type": "code",
   "execution_count": 12,
   "metadata": {},
   "outputs": [],
   "source": [
    "consensus_peaks_path = f\"../homer/Input/consensus_peaks.mRp.clN.boolean.txt\"\n",
    "differential_results_path = f\"../homer/Output/differential_results_unfiltered.tsv\"\n",
    "\n",
    "deeptools_profile_input_folder = f\"input/macs2\""
   ]
  },
  {
   "cell_type": "markdown",
   "metadata": {},
   "source": [
    "## Create the regions for upregulated/downregulated/static peaks"
   ]
  },
  {
   "cell_type": "code",
   "execution_count": null,
   "metadata": {},
   "outputs": [],
   "source": [
    "# Read in peaks\n",
    "consensus_peaks = pd.read_csv(consensus_peaks_path, sep=\"\\t\")\n",
    "differential_results = pd.read_csv(differential_results_path, sep=\"\\t\")"
   ]
  },
  {
   "cell_type": "code",
   "execution_count": 17,
   "metadata": {},
   "outputs": [],
   "source": [
    "consensus_peaks_formatted = consensus_peaks[[\"chr\", \"start\", \"end\"]]\n",
    "consensus_peaks_formatted.to_csv(\n",
    "    f\"{deeptools_profile_input_folder}/consensus_peaks.bed\",\n",
    "    sep=\"\\t\",\n",
    "    header=False,\n",
    "    index=False,\n",
    ")\n",
    "\n",
    "differential_up_results_sig = differential_results[(differential_results[\"padj\"] < 0.05) & (differential_results[\"log2FoldChange\"] > 0)]\n",
    "differential_up_peaks = consensus_peaks[\n",
    "    consensus_peaks[\"interval_id\"].isin(differential_up_results_sig.index)\n",
    "]\n",
    "differential_up_peaks_formatted = differential_up_peaks[[\"chr\", \"start\", \"end\"]]\n",
    "differential_up_peaks_formatted.to_csv(\n",
    "    f\"{deeptools_profile_input_folder}/differential_up_peaks.bed\",\n",
    "    sep=\"\\t\",\n",
    "    header=False,\n",
    "    index=False,\n",
    ")\n",
    "\n",
    "differential_down_results_sig = differential_results[(differential_results[\"padj\"] < 0.05) & (differential_results[\"log2FoldChange\"] < 0)]\n",
    "differential_down_peaks = consensus_peaks[\n",
    "    consensus_peaks[\"interval_id\"].isin(differential_down_results_sig.index)\n",
    "]\n",
    "differential_down_peaks_formatted = differential_down_peaks[[\"chr\", \"start\", \"end\"]]\n",
    "differential_down_peaks_formatted.to_csv(\n",
    "    f\"{deeptools_profile_input_folder}/differential_down_peaks.bed\",\n",
    "    sep=\"\\t\",\n",
    "    header=False,\n",
    "    index=False,\n",
    ")\n",
    "\n",
    "static_peaks = consensus_peaks[\n",
    "    ~consensus_peaks[\"interval_id\"].isin(differential_up_results_sig.index) & ~consensus_peaks[\"interval_id\"].isin(differential_down_results_sig.index)\n",
    "]\n",
    "static_peaks_formatted = static_peaks[[\"chr\", \"start\", \"end\"]]\n",
    "static_peaks_formatted.to_csv(\n",
    "    f\"{deeptools_profile_input_folder}/static_peaks.bed\",\n",
    "    sep=\"\\t\",\n",
    "    header=False,\n",
    "    index=False,\n",
    ")"
   ]
  },
  {
   "cell_type": "markdown",
   "metadata": {},
   "source": [
    "## Create the regions for peaks separated by Homer annotation\n",
    "\n",
    "First: run `run_consensus_peak_annotations.sh` on LinStat"
   ]
  },
  {
   "cell_type": "code",
   "execution_count": 32,
   "metadata": {},
   "outputs": [],
   "source": [
    "# Read in annotations\n",
    "consensus_peak_annotations = pd.read_csv(\n",
    "    f\"input/macs2/consensus_peaks.annotatePeaks.txt\", sep=\"\\t\"\n",
    ")\n",
    "consensus_peak_annotations.rename(\n",
    "    columns={consensus_peak_annotations.columns[0]: \"PeakID\"}, inplace=True\n",
    ")\n",
    "consensus_peak_annotations[\"BasicAnnotation\"] = consensus_peak_annotations[\n",
    "    \"Annotation\"\n",
    "].str.split(\"(\", expand=True)[0]"
   ]
  },
  {
   "cell_type": "code",
   "execution_count": 33,
   "metadata": {},
   "outputs": [],
   "source": [
    "# Separate consensus peaks by region type\n",
    "value_counts = consensus_peak_annotations[\"BasicAnnotation\"].value_counts()\n",
    "region_types = value_counts.index.tolist()\n",
    "\n",
    "for region_type in region_types:\n",
    "    region_type_formatted = region_type.replace(\" \", \"\").lower()\n",
    "    region_peaks = consensus_peak_annotations[\n",
    "        consensus_peak_annotations[\"BasicAnnotation\"] == region_type\n",
    "    ]\n",
    "    region_bed = region_peaks[[\"Chr\", \"Start\", \"End\"]]\n",
    "    region_bed.to_csv(\n",
    "        f\"{deeptools_profile_input_folder}/consensus_{region_type_formatted}.bed\",\n",
    "        sep=\"\\t\",\n",
    "        header=False,\n",
    "        index=False,\n",
    "    )"
   ]
  }
 ],
 "metadata": {
  "kernelspec": {
   "display_name": "general_purpose_venv",
   "language": "python",
   "name": "python3"
  },
  "language_info": {
   "codemirror_mode": {
    "name": "ipython",
    "version": 3
   },
   "file_extension": ".py",
   "mimetype": "text/x-python",
   "name": "python",
   "nbconvert_exporter": "python",
   "pygments_lexer": "ipython3",
   "version": "3.12.7"
  }
 },
 "nbformat": 4,
 "nbformat_minor": 2
}
