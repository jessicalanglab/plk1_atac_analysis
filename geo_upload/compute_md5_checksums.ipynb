{
 "cells": [
  {
   "cell_type": "markdown",
   "metadata": {},
   "source": [
    "# Format raw and processed files for GEO uploads"
   ]
  },
  {
   "cell_type": "markdown",
   "metadata": {},
   "source": [
    "## Setup"
   ]
  },
  {
   "cell_type": "code",
   "execution_count": 7,
   "metadata": {},
   "outputs": [],
   "source": [
    "from collections import namedtuple\n",
    "import pandas as pd\n",
    "import os\n",
    "import hashlib\n",
    "\n",
    "# Setting up this named tuple to store any further information we need about the samples\n",
    "# (such as directory paths, etc.)\n",
    "SampleInfo = namedtuple(\"SampleInfo\", [\"name\", \"treatment\", \"replicate\", \"fastq_id\"])\n",
    "\n",
    "samples = [\n",
    "    SampleInfo(\n",
    "        \"Plk1as_DMSO_rep1\",\n",
    "        \"DMSO\",\n",
    "        \"1\",\n",
    "        \"p3_S1\",\n",
    "    ),\n",
    "    SampleInfo(\n",
    "        \"Plk1as_DMSO_rep2\",\n",
    "        \"DMSO\",\n",
    "        \"2\",\n",
    "        \"p5_S5\",\n",
    "    ),\n",
    "    SampleInfo(\n",
    "        \"Plk1as_DMSO_rep3\",\n",
    "        \"DMSO\",\n",
    "        \"3\",\n",
    "        \"p14_S3\",\n",
    "    ),\n",
    "    SampleInfo(\n",
    "        \"Plk1as_DMSO_rep4\",\n",
    "        \"DMSO\",\n",
    "        \"4\",\n",
    "        \"p16_S7\",\n",
    "    ),\n",
    "    SampleInfo(\n",
    "        \"Plk1as_3MB_rep1\",\n",
    "        \"3MB\",\n",
    "        \"1\",\n",
    "        \"p3_S2\",\n",
    "    ),\n",
    "    SampleInfo(\n",
    "        \"Plk1as_3MB_rep2\",\n",
    "        \"3MB\",\n",
    "        \"2\",\n",
    "        \"p5_S6\",\n",
    "    ),\n",
    "    SampleInfo(\n",
    "        \"Plk1as_3MB_rep3\",\n",
    "        \"3MB\",\n",
    "        \"3\",\n",
    "        \"p14_S4\",\n",
    "    ),\n",
    "    SampleInfo(\n",
    "        \"Plk1as_3MB_rep4\",\n",
    "        \"3MB\",\n",
    "        \"4\",\n",
    "        \"p16_S8\",\n",
    "    ),\n",
    "]\n",
    "\n",
    "# Path to raw and processed data files\n",
    "data_folder = f\"data_to_upload\"\n",
    "\n",
    "# Print command and run command\n",
    "def run_command(cmd):\n",
    "    print(f\"cmd: {cmd}\")\n",
    "    os.system(cmd)"
   ]
  },
  {
   "cell_type": "code",
   "execution_count": 2,
   "metadata": {},
   "outputs": [],
   "source": [
    "def compute_md5_checksum(file_path):\n",
    "    md5_hash = hashlib.md5()\n",
    "    with open(file_path, \"rb\") as file:\n",
    "        # Read the file in chunks to avoid memory issues with large files\n",
    "        for chunk in iter(lambda: file.read(4096), b\"\"):\n",
    "            md5_hash.update(chunk)\n",
    "    return md5_hash.hexdigest()"
   ]
  },
  {
   "cell_type": "markdown",
   "metadata": {},
   "source": [
    "## Compute MD5 checksums for peaks files"
   ]
  },
  {
   "cell_type": "code",
   "execution_count": null,
   "metadata": {},
   "outputs": [
    {
     "data": {
      "text/plain": [
       "'Computing MD5 for Plk1as_DMSO_rep1'"
      ]
     },
     "metadata": {},
     "output_type": "display_data"
    },
    {
     "data": {
      "text/plain": [
       "'Computing MD5 for Plk1as_DMSO_rep2'"
      ]
     },
     "metadata": {},
     "output_type": "display_data"
    },
    {
     "data": {
      "text/plain": [
       "'Computing MD5 for Plk1as_DMSO_rep3'"
      ]
     },
     "metadata": {},
     "output_type": "display_data"
    },
    {
     "data": {
      "text/plain": [
       "'Computing MD5 for Plk1as_DMSO_rep4'"
      ]
     },
     "metadata": {},
     "output_type": "display_data"
    },
    {
     "data": {
      "text/plain": [
       "'Computing MD5 for Plk1as_3MB_rep1'"
      ]
     },
     "metadata": {},
     "output_type": "display_data"
    },
    {
     "data": {
      "text/plain": [
       "'Computing MD5 for Plk1as_3MB_rep2'"
      ]
     },
     "metadata": {},
     "output_type": "display_data"
    },
    {
     "data": {
      "text/plain": [
       "'Computing MD5 for Plk1as_3MB_rep3'"
      ]
     },
     "metadata": {},
     "output_type": "display_data"
    },
    {
     "data": {
      "text/plain": [
       "'Computing MD5 for Plk1as_3MB_rep4'"
      ]
     },
     "metadata": {},
     "output_type": "display_data"
    },
    {
     "data": {
      "text/html": [
       "<div>\n",
       "<style scoped>\n",
       "    .dataframe tbody tr th:only-of-type {\n",
       "        vertical-align: middle;\n",
       "    }\n",
       "\n",
       "    .dataframe tbody tr th {\n",
       "        vertical-align: top;\n",
       "    }\n",
       "\n",
       "    .dataframe thead th {\n",
       "        text-align: right;\n",
       "    }\n",
       "</style>\n",
       "<table border=\"1\" class=\"dataframe\">\n",
       "  <thead>\n",
       "    <tr style=\"text-align: right;\">\n",
       "      <th></th>\n",
       "      <th>file_name</th>\n",
       "      <th>md5_checksum</th>\n",
       "    </tr>\n",
       "  </thead>\n",
       "  <tbody>\n",
       "    <tr>\n",
       "      <th>0</th>\n",
       "      <td>DMSO_REP1.mLb.clN_peaks.bed</td>\n",
       "      <td>981fc75b4a5dbceeed82832ab7569bd1</td>\n",
       "    </tr>\n",
       "    <tr>\n",
       "      <th>1</th>\n",
       "      <td>DMSO_REP2.mLb.clN_peaks.bed</td>\n",
       "      <td>a48284b461ada359483ae9363c4439ed</td>\n",
       "    </tr>\n",
       "    <tr>\n",
       "      <th>2</th>\n",
       "      <td>DMSO_REP3.mLb.clN_peaks.bed</td>\n",
       "      <td>cd28385873dceca19cf8acfdfdfdd843</td>\n",
       "    </tr>\n",
       "    <tr>\n",
       "      <th>3</th>\n",
       "      <td>DMSO_REP4.mLb.clN_peaks.bed</td>\n",
       "      <td>3aff8a96fa0bc139269613849048de9a</td>\n",
       "    </tr>\n",
       "    <tr>\n",
       "      <th>4</th>\n",
       "      <td>3MB_REP1.mLb.clN_peaks.bed</td>\n",
       "      <td>2f2df4adae834c7659cfd4a8e5686a2a</td>\n",
       "    </tr>\n",
       "    <tr>\n",
       "      <th>5</th>\n",
       "      <td>3MB_REP2.mLb.clN_peaks.bed</td>\n",
       "      <td>602208ad0a00e6197b48511b644c630e</td>\n",
       "    </tr>\n",
       "    <tr>\n",
       "      <th>6</th>\n",
       "      <td>3MB_REP3.mLb.clN_peaks.bed</td>\n",
       "      <td>d561ab8e35cbc65b39f6299012fd2ca8</td>\n",
       "    </tr>\n",
       "    <tr>\n",
       "      <th>7</th>\n",
       "      <td>3MB_REP4.mLb.clN_peaks.bed</td>\n",
       "      <td>eba47012d9766f020f3dda3047f01c54</td>\n",
       "    </tr>\n",
       "  </tbody>\n",
       "</table>\n",
       "</div>"
      ],
      "text/plain": [
       "                     file_name                      md5_checksum\n",
       "0  DMSO_REP1.mLb.clN_peaks.bed  981fc75b4a5dbceeed82832ab7569bd1\n",
       "1  DMSO_REP2.mLb.clN_peaks.bed  a48284b461ada359483ae9363c4439ed\n",
       "2  DMSO_REP3.mLb.clN_peaks.bed  cd28385873dceca19cf8acfdfdfdd843\n",
       "3  DMSO_REP4.mLb.clN_peaks.bed  3aff8a96fa0bc139269613849048de9a\n",
       "4   3MB_REP1.mLb.clN_peaks.bed  2f2df4adae834c7659cfd4a8e5686a2a\n",
       "5   3MB_REP2.mLb.clN_peaks.bed  602208ad0a00e6197b48511b644c630e\n",
       "6   3MB_REP3.mLb.clN_peaks.bed  d561ab8e35cbc65b39f6299012fd2ca8\n",
       "7   3MB_REP4.mLb.clN_peaks.bed  eba47012d9766f020f3dda3047f01c54"
      ]
     },
     "metadata": {},
     "output_type": "display_data"
    }
   ],
   "source": [
    "processed_files_checksum_df = pd.DataFrame(columns=[\"file_name\", \"md5_checksum\"])\n",
    "for sample in samples:\n",
    "    display(f\"Computing MD5 for {sample.name}\")\n",
    "    sample_peaks_path = (\n",
    "        f\"{data_folder}/{sample.treatment}_REP{sample.replicate}.mLb.clN_peaks.bed\"\n",
    "    )\n",
    "\n",
    "    # Compute md5 checksum\n",
    "    md5_checksum = compute_md5_checksum(sample_peaks_path)\n",
    "\n",
    "    # Add to checksum data frame\n",
    "    processed_files_checksum_df = pd.concat(\n",
    "        [\n",
    "            processed_files_checksum_df,\n",
    "            pd.DataFrame(\n",
    "                {\n",
    "                    \"file_name\": [os.path.basename(sample_peaks_path)],\n",
    "                    \"md5_checksum\": [md5_checksum],\n",
    "                }\n",
    "            ),\n",
    "        ],\n",
    "        ignore_index=True,\n",
    "    )\n",
    "\n",
    "display(processed_files_checksum_df)\n",
    "processed_files_checksum_df.to_csv(\"processed_files_checksum.csv\", index=False)"
   ]
  },
  {
   "cell_type": "markdown",
   "metadata": {},
   "source": [
    "## Compute MD5 checksums for fastq files"
   ]
  },
  {
   "cell_type": "code",
   "execution_count": 9,
   "metadata": {},
   "outputs": [
    {
     "data": {
      "text/plain": [
       "'Computing MD5 for Plk1as_DMSO_rep1'"
      ]
     },
     "metadata": {},
     "output_type": "display_data"
    },
    {
     "data": {
      "text/plain": [
       "'Computing MD5 for Plk1as_DMSO_rep1'"
      ]
     },
     "metadata": {},
     "output_type": "display_data"
    },
    {
     "data": {
      "text/plain": [
       "'Computing MD5 for Plk1as_DMSO_rep2'"
      ]
     },
     "metadata": {},
     "output_type": "display_data"
    },
    {
     "data": {
      "text/plain": [
       "'Computing MD5 for Plk1as_DMSO_rep2'"
      ]
     },
     "metadata": {},
     "output_type": "display_data"
    },
    {
     "data": {
      "text/plain": [
       "'Computing MD5 for Plk1as_DMSO_rep3'"
      ]
     },
     "metadata": {},
     "output_type": "display_data"
    },
    {
     "data": {
      "text/plain": [
       "'Computing MD5 for Plk1as_DMSO_rep3'"
      ]
     },
     "metadata": {},
     "output_type": "display_data"
    },
    {
     "data": {
      "text/plain": [
       "'Computing MD5 for Plk1as_DMSO_rep4'"
      ]
     },
     "metadata": {},
     "output_type": "display_data"
    },
    {
     "data": {
      "text/plain": [
       "'Computing MD5 for Plk1as_DMSO_rep4'"
      ]
     },
     "metadata": {},
     "output_type": "display_data"
    },
    {
     "data": {
      "text/plain": [
       "'Computing MD5 for Plk1as_3MB_rep1'"
      ]
     },
     "metadata": {},
     "output_type": "display_data"
    },
    {
     "data": {
      "text/plain": [
       "'Computing MD5 for Plk1as_3MB_rep1'"
      ]
     },
     "metadata": {},
     "output_type": "display_data"
    },
    {
     "data": {
      "text/plain": [
       "'Computing MD5 for Plk1as_3MB_rep2'"
      ]
     },
     "metadata": {},
     "output_type": "display_data"
    },
    {
     "data": {
      "text/plain": [
       "'Computing MD5 for Plk1as_3MB_rep2'"
      ]
     },
     "metadata": {},
     "output_type": "display_data"
    },
    {
     "data": {
      "text/plain": [
       "'Computing MD5 for Plk1as_3MB_rep3'"
      ]
     },
     "metadata": {},
     "output_type": "display_data"
    },
    {
     "data": {
      "text/plain": [
       "'Computing MD5 for Plk1as_3MB_rep3'"
      ]
     },
     "metadata": {},
     "output_type": "display_data"
    },
    {
     "data": {
      "text/plain": [
       "'Computing MD5 for Plk1as_3MB_rep4'"
      ]
     },
     "metadata": {},
     "output_type": "display_data"
    },
    {
     "data": {
      "text/plain": [
       "'Computing MD5 for Plk1as_3MB_rep4'"
      ]
     },
     "metadata": {},
     "output_type": "display_data"
    },
    {
     "data": {
      "text/html": [
       "<div>\n",
       "<style scoped>\n",
       "    .dataframe tbody tr th:only-of-type {\n",
       "        vertical-align: middle;\n",
       "    }\n",
       "\n",
       "    .dataframe tbody tr th {\n",
       "        vertical-align: top;\n",
       "    }\n",
       "\n",
       "    .dataframe thead th {\n",
       "        text-align: right;\n",
       "    }\n",
       "</style>\n",
       "<table border=\"1\" class=\"dataframe\">\n",
       "  <thead>\n",
       "    <tr style=\"text-align: right;\">\n",
       "      <th></th>\n",
       "      <th>file_name</th>\n",
       "      <th>md5_checksum</th>\n",
       "    </tr>\n",
       "  </thead>\n",
       "  <tbody>\n",
       "    <tr>\n",
       "      <th>0</th>\n",
       "      <td>DMSO_p3_S1_R1_001.fastq.gz</td>\n",
       "      <td>3ab20ea07414c97c2b9c50f08af5026a</td>\n",
       "    </tr>\n",
       "    <tr>\n",
       "      <th>1</th>\n",
       "      <td>DMSO_p3_S1_R2_001.fastq.gz</td>\n",
       "      <td>da8043a32c263cfa9d9bdd8711ac4d7a</td>\n",
       "    </tr>\n",
       "    <tr>\n",
       "      <th>2</th>\n",
       "      <td>DMSO_p5_S5_R1_001.fastq.gz</td>\n",
       "      <td>a59325f94f75086c4e62b55db2ee3d14</td>\n",
       "    </tr>\n",
       "    <tr>\n",
       "      <th>3</th>\n",
       "      <td>DMSO_p5_S5_R2_001.fastq.gz</td>\n",
       "      <td>87f9b141747398e828948b5e77b3b5ff</td>\n",
       "    </tr>\n",
       "    <tr>\n",
       "      <th>4</th>\n",
       "      <td>DMSO_p14_S3_R1_001.fastq.gz</td>\n",
       "      <td>45dcfbf5ed807e9efb1bc552f85e8388</td>\n",
       "    </tr>\n",
       "    <tr>\n",
       "      <th>5</th>\n",
       "      <td>DMSO_p14_S3_R2_001.fastq.gz</td>\n",
       "      <td>79bd330c29562941c480aba1d0436ca9</td>\n",
       "    </tr>\n",
       "    <tr>\n",
       "      <th>6</th>\n",
       "      <td>DMSO_p16_S7_R1_001.fastq.gz</td>\n",
       "      <td>38bef9d5ee649a06073d1fabe68a335e</td>\n",
       "    </tr>\n",
       "    <tr>\n",
       "      <th>7</th>\n",
       "      <td>DMSO_p16_S7_R2_001.fastq.gz</td>\n",
       "      <td>cb016b1f91fe1889346068847fd76a92</td>\n",
       "    </tr>\n",
       "    <tr>\n",
       "      <th>8</th>\n",
       "      <td>3MB_p3_S2_R1_001.fastq.gz</td>\n",
       "      <td>5afd854e59f824a5b19628842bceb26a</td>\n",
       "    </tr>\n",
       "    <tr>\n",
       "      <th>9</th>\n",
       "      <td>3MB_p3_S2_R2_001.fastq.gz</td>\n",
       "      <td>3ab22496eafcc661da0eb14fcc751fe3</td>\n",
       "    </tr>\n",
       "    <tr>\n",
       "      <th>10</th>\n",
       "      <td>3MB_p5_S6_R1_001.fastq.gz</td>\n",
       "      <td>e1f7c0ef54b6b7f574defa8a98783a30</td>\n",
       "    </tr>\n",
       "    <tr>\n",
       "      <th>11</th>\n",
       "      <td>3MB_p5_S6_R2_001.fastq.gz</td>\n",
       "      <td>d1da710772e2cd9c8cde432a9db7ab2e</td>\n",
       "    </tr>\n",
       "    <tr>\n",
       "      <th>12</th>\n",
       "      <td>3MB_p14_S4_R1_001.fastq.gz</td>\n",
       "      <td>2482f592bcfa5e0b1a1a720d78372b67</td>\n",
       "    </tr>\n",
       "    <tr>\n",
       "      <th>13</th>\n",
       "      <td>3MB_p14_S4_R2_001.fastq.gz</td>\n",
       "      <td>0cec4ff4bb5cec3bb97e4e6b63624216</td>\n",
       "    </tr>\n",
       "    <tr>\n",
       "      <th>14</th>\n",
       "      <td>3MB_p16_S8_R1_001.fastq.gz</td>\n",
       "      <td>1b9e3b40a68616876a1c0fb578be7ede</td>\n",
       "    </tr>\n",
       "    <tr>\n",
       "      <th>15</th>\n",
       "      <td>3MB_p16_S8_R2_001.fastq.gz</td>\n",
       "      <td>af99ebb9e37bc8b51b61d2c24649e422</td>\n",
       "    </tr>\n",
       "  </tbody>\n",
       "</table>\n",
       "</div>"
      ],
      "text/plain": [
       "                      file_name                      md5_checksum\n",
       "0    DMSO_p3_S1_R1_001.fastq.gz  3ab20ea07414c97c2b9c50f08af5026a\n",
       "1    DMSO_p3_S1_R2_001.fastq.gz  da8043a32c263cfa9d9bdd8711ac4d7a\n",
       "2    DMSO_p5_S5_R1_001.fastq.gz  a59325f94f75086c4e62b55db2ee3d14\n",
       "3    DMSO_p5_S5_R2_001.fastq.gz  87f9b141747398e828948b5e77b3b5ff\n",
       "4   DMSO_p14_S3_R1_001.fastq.gz  45dcfbf5ed807e9efb1bc552f85e8388\n",
       "5   DMSO_p14_S3_R2_001.fastq.gz  79bd330c29562941c480aba1d0436ca9\n",
       "6   DMSO_p16_S7_R1_001.fastq.gz  38bef9d5ee649a06073d1fabe68a335e\n",
       "7   DMSO_p16_S7_R2_001.fastq.gz  cb016b1f91fe1889346068847fd76a92\n",
       "8     3MB_p3_S2_R1_001.fastq.gz  5afd854e59f824a5b19628842bceb26a\n",
       "9     3MB_p3_S2_R2_001.fastq.gz  3ab22496eafcc661da0eb14fcc751fe3\n",
       "10    3MB_p5_S6_R1_001.fastq.gz  e1f7c0ef54b6b7f574defa8a98783a30\n",
       "11    3MB_p5_S6_R2_001.fastq.gz  d1da710772e2cd9c8cde432a9db7ab2e\n",
       "12   3MB_p14_S4_R1_001.fastq.gz  2482f592bcfa5e0b1a1a720d78372b67\n",
       "13   3MB_p14_S4_R2_001.fastq.gz  0cec4ff4bb5cec3bb97e4e6b63624216\n",
       "14   3MB_p16_S8_R1_001.fastq.gz  1b9e3b40a68616876a1c0fb578be7ede\n",
       "15   3MB_p16_S8_R2_001.fastq.gz  af99ebb9e37bc8b51b61d2c24649e422"
      ]
     },
     "metadata": {},
     "output_type": "display_data"
    }
   ],
   "source": [
    "raw_files_checksum_df = pd.DataFrame(columns=[\"file_name\", \"md5_checksum\"])\n",
    "for sample in samples:\n",
    "    for r in [1, 2]:\n",
    "        display(f\"Computing MD5 for {sample.name}\")\n",
    "        sample_fastq_path = f\"{data_folder}/{sample.treatment}_{sample.fastq_id}_R{r}_001.fastq.gz\"\n",
    "\n",
    "        # Compute md5 checksum\n",
    "        md5_checksum = compute_md5_checksum(sample_fastq_path)\n",
    "\n",
    "        # Add to checksum data frame\n",
    "        raw_files_checksum_df = pd.concat(\n",
    "            [\n",
    "                raw_files_checksum_df,\n",
    "                pd.DataFrame(\n",
    "                    {\n",
    "                        \"file_name\": [os.path.basename(sample_fastq_path)],\n",
    "                        \"md5_checksum\": [md5_checksum],\n",
    "                    }\n",
    "                ),\n",
    "            ],\n",
    "            ignore_index=True,\n",
    "        )\n",
    "\n",
    "\n",
    "display(raw_files_checksum_df)\n",
    "raw_files_checksum_df.to_csv(\"raw_files_checksum.csv\", index=False)"
   ]
  }
 ],
 "metadata": {
  "kernelspec": {
   "display_name": "general_purpose_venv",
   "language": "python",
   "name": "python3"
  },
  "language_info": {
   "codemirror_mode": {
    "name": "ipython",
    "version": 3
   },
   "file_extension": ".py",
   "mimetype": "text/x-python",
   "name": "python",
   "nbconvert_exporter": "python",
   "pygments_lexer": "ipython3",
   "version": "3.12.7"
  }
 },
 "nbformat": 4,
 "nbformat_minor": 2
}
